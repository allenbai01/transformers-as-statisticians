{
 "cells": [
  {
   "cell_type": "code",
   "execution_count": 59,
   "id": "ed6cfeb1",
   "metadata": {},
   "outputs": [
    {
     "name": "stdout",
     "output_type": "stream",
     "text": [
      "The autoreload extension is already loaded. To reload it, use:\n",
      "  %reload_ext autoreload\n"
     ]
    }
   ],
   "source": [
    "from collections import OrderedDict\n",
    "import re\n",
    "import os\n",
    "\n",
    "import matplotlib.pyplot as plt\n",
    "import pandas as pd\n",
    "pd.set_option('display.max_colwidth', 100)\n",
    "import seaborn as sns\n",
    "import torch\n",
    "from tqdm.notebook import tqdm\n",
    "\n",
    "from eval import get_run_metrics, read_run_dir, get_model_from_run\n",
    "from plot_utils import *\n",
    "from plot_main_encoder import *\n",
    "\n",
    "%matplotlib inline\n",
    "%load_ext autoreload\n",
    "%autoreload 2\n",
    "\n",
    "# sns.set_theme('notebook', 'darkgrid')\n",
    "# palette = sns.color_palette('colorblind')\n",
    "\n",
    "run_dir = \"../encoder_final\""
   ]
  },
  {
   "cell_type": "markdown",
   "id": "d92d08d8",
   "metadata": {},
   "source": [
    "## Load all runs and gather metrics"
   ]
  },
  {
   "cell_type": "code",
   "execution_count": 60,
   "id": "0e8d018b",
   "metadata": {
    "scrolled": true
   },
   "outputs": [
    {
     "data": {
      "text/html": [
       "<div>\n",
       "<style scoped>\n",
       "    .dataframe tbody tr th:only-of-type {\n",
       "        vertical-align: middle;\n",
       "    }\n",
       "\n",
       "    .dataframe tbody tr th {\n",
       "        vertical-align: top;\n",
       "    }\n",
       "\n",
       "    .dataframe thead th {\n",
       "        text-align: right;\n",
       "    }\n",
       "</style>\n",
       "<table border=\"1\" class=\"dataframe\">\n",
       "  <thead>\n",
       "    <tr style=\"text-align: right;\">\n",
       "      <th></th>\n",
       "      <th>run_id</th>\n",
       "      <th>task</th>\n",
       "      <th>model</th>\n",
       "      <th>num_tasks</th>\n",
       "      <th>num_examples</th>\n",
       "      <th>n_dims</th>\n",
       "      <th>n_layer</th>\n",
       "      <th>n_head</th>\n",
       "      <th>run_name</th>\n",
       "    </tr>\n",
       "  </thead>\n",
       "  <tbody>\n",
       "    <tr>\n",
       "      <th>5</th>\n",
       "      <td>61d98bbc-7d30-4cce-b23f-dc66fe858c2a</td>\n",
       "      <td>linear_and_logistic_d=20</td>\n",
       "      <td>EncoderTF</td>\n",
       "      <td>-1</td>\n",
       "      <td>-1</td>\n",
       "      <td>20</td>\n",
       "      <td>12</td>\n",
       "      <td>8</td>\n",
       "      <td>linear_and_logistic_d=20</td>\n",
       "    </tr>\n",
       "    <tr>\n",
       "      <th>6</th>\n",
       "      <td>15c1815e-0fba-4230-9441-4782573ede61</td>\n",
       "      <td>linear_classification</td>\n",
       "      <td>EncoderTF</td>\n",
       "      <td>-1</td>\n",
       "      <td>-1</td>\n",
       "      <td>20</td>\n",
       "      <td>12</td>\n",
       "      <td>8</td>\n",
       "      <td>linear_classification</td>\n",
       "    </tr>\n",
       "    <tr>\n",
       "      <th>3</th>\n",
       "      <td>e32cc54c-d7cf-4878-b9a7-c49ea5dbe918</td>\n",
       "      <td>linear_regression</td>\n",
       "      <td>EncoderTF</td>\n",
       "      <td>-1</td>\n",
       "      <td>-1</td>\n",
       "      <td>20</td>\n",
       "      <td>12</td>\n",
       "      <td>8</td>\n",
       "      <td>linear_regression</td>\n",
       "    </tr>\n",
       "    <tr>\n",
       "      <th>1</th>\n",
       "      <td>c8244fed-c938-455d-a673-c268f7e31d3e</td>\n",
       "      <td>nlr_d=20_normalize_mtl</td>\n",
       "      <td>EncoderTF</td>\n",
       "      <td>-1</td>\n",
       "      <td>-1</td>\n",
       "      <td>20</td>\n",
       "      <td>12</td>\n",
       "      <td>8</td>\n",
       "      <td>nlr_d=20_normalize_mtl</td>\n",
       "    </tr>\n",
       "    <tr>\n",
       "      <th>4</th>\n",
       "      <td>91c405c4-cf66-4883-8516-00a480df16fb</td>\n",
       "      <td>nlr_d=20_normalize_noise=0.1</td>\n",
       "      <td>EncoderTF</td>\n",
       "      <td>-1</td>\n",
       "      <td>-1</td>\n",
       "      <td>20</td>\n",
       "      <td>12</td>\n",
       "      <td>8</td>\n",
       "      <td>nlr_d=20_normalize_noise=0.1</td>\n",
       "    </tr>\n",
       "    <tr>\n",
       "      <th>2</th>\n",
       "      <td>50bcac52-4593-4dea-8a24-d447dd77ef86</td>\n",
       "      <td>nlr_d=20_normalize_noise=0.25</td>\n",
       "      <td>EncoderTF</td>\n",
       "      <td>-1</td>\n",
       "      <td>-1</td>\n",
       "      <td>20</td>\n",
       "      <td>12</td>\n",
       "      <td>8</td>\n",
       "      <td>nlr_d=20_normalize_noise=0.25</td>\n",
       "    </tr>\n",
       "    <tr>\n",
       "      <th>12</th>\n",
       "      <td>fda80159-7318-4ea1-9c08-4acd2786b82b</td>\n",
       "      <td>nlr_d=20_normalize_noise=0.5</td>\n",
       "      <td>EncoderTF</td>\n",
       "      <td>-1</td>\n",
       "      <td>-1</td>\n",
       "      <td>20</td>\n",
       "      <td>12</td>\n",
       "      <td>8</td>\n",
       "      <td>nlr_d=20_normalize_noise=0.5</td>\n",
       "    </tr>\n",
       "    <tr>\n",
       "      <th>14</th>\n",
       "      <td>df4e4eeb-d05d-4727-8147-2f757b8c279f</td>\n",
       "      <td>nlr_d=20_normalize_noise=1.0</td>\n",
       "      <td>EncoderTF</td>\n",
       "      <td>-1</td>\n",
       "      <td>-1</td>\n",
       "      <td>20</td>\n",
       "      <td>12</td>\n",
       "      <td>8</td>\n",
       "      <td>nlr_d=20_normalize_noise=1.0</td>\n",
       "    </tr>\n",
       "    <tr>\n",
       "      <th>8</th>\n",
       "      <td>a9c83386-66a0-4c82-9675-31f59a0a8fd7</td>\n",
       "      <td>slr_d=20_k=3_normalize_fixedcurr</td>\n",
       "      <td>EncoderTF</td>\n",
       "      <td>-1</td>\n",
       "      <td>-1</td>\n",
       "      <td>20</td>\n",
       "      <td>12</td>\n",
       "      <td>8</td>\n",
       "      <td>slr_d=20_k=3_normalize_fixedcurr</td>\n",
       "    </tr>\n",
       "    <tr>\n",
       "      <th>17</th>\n",
       "      <td>58b1c4c0-9eca-43f1-8ac2-8ee2ad81c16c</td>\n",
       "      <td>slr_d=20_k=3_normalize_guided_lam_0.01_token_10_layer_-2</td>\n",
       "      <td>EncoderTF</td>\n",
       "      <td>-1</td>\n",
       "      <td>-1</td>\n",
       "      <td>20</td>\n",
       "      <td>12</td>\n",
       "      <td>8</td>\n",
       "      <td>slr_d=20_k=3_normalize_guided_lam_0.01_token_10_layer_-2</td>\n",
       "    </tr>\n",
       "    <tr>\n",
       "      <th>10</th>\n",
       "      <td>54536fea-fbf7-4e78-8d5c-a4e203e473df</td>\n",
       "      <td>slr_d=20_k=3_normalize_guided_lam_0.01_token_10_layer_-4</td>\n",
       "      <td>EncoderTF</td>\n",
       "      <td>-1</td>\n",
       "      <td>-1</td>\n",
       "      <td>20</td>\n",
       "      <td>12</td>\n",
       "      <td>8</td>\n",
       "      <td>slr_d=20_k=3_normalize_guided_lam_0.01_token_10_layer_-4</td>\n",
       "    </tr>\n",
       "    <tr>\n",
       "      <th>0</th>\n",
       "      <td>951d79e9-f6d4-4122-a5ef-1a45d2d7bc4f</td>\n",
       "      <td>slr_d=20_k=3_normalize_guided_lam_0.01_token_5_layer_-2</td>\n",
       "      <td>EncoderTF</td>\n",
       "      <td>-1</td>\n",
       "      <td>-1</td>\n",
       "      <td>20</td>\n",
       "      <td>12</td>\n",
       "      <td>8</td>\n",
       "      <td>slr_d=20_k=3_normalize_guided_lam_0.01_token_5_layer_-2</td>\n",
       "    </tr>\n",
       "    <tr>\n",
       "      <th>15</th>\n",
       "      <td>47a75508-e3fd-40a2-80a1-2c4719da06cd</td>\n",
       "      <td>slr_d=20_k=3_normalize_guided_lam_0.01_token_5_layer_-4</td>\n",
       "      <td>EncoderTF</td>\n",
       "      <td>-1</td>\n",
       "      <td>-1</td>\n",
       "      <td>20</td>\n",
       "      <td>12</td>\n",
       "      <td>8</td>\n",
       "      <td>slr_d=20_k=3_normalize_guided_lam_0.01_token_5_layer_-4</td>\n",
       "    </tr>\n",
       "    <tr>\n",
       "      <th>16</th>\n",
       "      <td>7c3553a1-247e-448c-b7ad-07f5172860dd</td>\n",
       "      <td>slr_d=20_k=3_normalize_guided_lam_0.1_token_10_layer_-2</td>\n",
       "      <td>EncoderTF</td>\n",
       "      <td>-1</td>\n",
       "      <td>-1</td>\n",
       "      <td>20</td>\n",
       "      <td>12</td>\n",
       "      <td>8</td>\n",
       "      <td>slr_d=20_k=3_normalize_guided_lam_0.1_token_10_layer_-2</td>\n",
       "    </tr>\n",
       "    <tr>\n",
       "      <th>11</th>\n",
       "      <td>83052464-8b28-478c-8532-6b421bdadad3</td>\n",
       "      <td>slr_d=20_k=3_normalize_guided_lam_0.1_token_10_layer_-4</td>\n",
       "      <td>EncoderTF</td>\n",
       "      <td>-1</td>\n",
       "      <td>-1</td>\n",
       "      <td>20</td>\n",
       "      <td>12</td>\n",
       "      <td>8</td>\n",
       "      <td>slr_d=20_k=3_normalize_guided_lam_0.1_token_10_layer_-4</td>\n",
       "    </tr>\n",
       "    <tr>\n",
       "      <th>9</th>\n",
       "      <td>5f365ed2-bc41-4502-9c37-c42f1a2ed6d4</td>\n",
       "      <td>slr_d=20_k=3_normalize_guided_lam_0.1_token_5</td>\n",
       "      <td>EncoderTF</td>\n",
       "      <td>-1</td>\n",
       "      <td>-1</td>\n",
       "      <td>20</td>\n",
       "      <td>12</td>\n",
       "      <td>8</td>\n",
       "      <td>slr_d=20_k=3_normalize_guided_lam_0.1_token_5</td>\n",
       "    </tr>\n",
       "    <tr>\n",
       "      <th>7</th>\n",
       "      <td>7dbf6210-ed28-4ec1-b584-c0ddbade74fe</td>\n",
       "      <td>slr_d=20_k=3_normalize_guided_lam_0.1_token_5_layer_-2</td>\n",
       "      <td>EncoderTF</td>\n",
       "      <td>-1</td>\n",
       "      <td>-1</td>\n",
       "      <td>20</td>\n",
       "      <td>12</td>\n",
       "      <td>8</td>\n",
       "      <td>slr_d=20_k=3_normalize_guided_lam_0.1_token_5_layer_-2</td>\n",
       "    </tr>\n",
       "    <tr>\n",
       "      <th>13</th>\n",
       "      <td>a540b0e4-33fe-4ce8-b8e9-324a6ec4ae28</td>\n",
       "      <td>slr_d=20_k=3_normalize_guided_lam_0.1_token_5_layer_-4</td>\n",
       "      <td>EncoderTF</td>\n",
       "      <td>-1</td>\n",
       "      <td>-1</td>\n",
       "      <td>20</td>\n",
       "      <td>12</td>\n",
       "      <td>8</td>\n",
       "      <td>slr_d=20_k=3_normalize_guided_lam_0.1_token_5_layer_-4</td>\n",
       "    </tr>\n",
       "  </tbody>\n",
       "</table>\n",
       "</div>"
      ],
      "text/plain": [
       "                                  run_id  \\\n",
       "5   61d98bbc-7d30-4cce-b23f-dc66fe858c2a   \n",
       "6   15c1815e-0fba-4230-9441-4782573ede61   \n",
       "3   e32cc54c-d7cf-4878-b9a7-c49ea5dbe918   \n",
       "1   c8244fed-c938-455d-a673-c268f7e31d3e   \n",
       "4   91c405c4-cf66-4883-8516-00a480df16fb   \n",
       "2   50bcac52-4593-4dea-8a24-d447dd77ef86   \n",
       "12  fda80159-7318-4ea1-9c08-4acd2786b82b   \n",
       "14  df4e4eeb-d05d-4727-8147-2f757b8c279f   \n",
       "8   a9c83386-66a0-4c82-9675-31f59a0a8fd7   \n",
       "17  58b1c4c0-9eca-43f1-8ac2-8ee2ad81c16c   \n",
       "10  54536fea-fbf7-4e78-8d5c-a4e203e473df   \n",
       "0   951d79e9-f6d4-4122-a5ef-1a45d2d7bc4f   \n",
       "15  47a75508-e3fd-40a2-80a1-2c4719da06cd   \n",
       "16  7c3553a1-247e-448c-b7ad-07f5172860dd   \n",
       "11  83052464-8b28-478c-8532-6b421bdadad3   \n",
       "9   5f365ed2-bc41-4502-9c37-c42f1a2ed6d4   \n",
       "7   7dbf6210-ed28-4ec1-b584-c0ddbade74fe   \n",
       "13  a540b0e4-33fe-4ce8-b8e9-324a6ec4ae28   \n",
       "\n",
       "                                                        task  \\\n",
       "5                                   linear_and_logistic_d=20   \n",
       "6                                      linear_classification   \n",
       "3                                          linear_regression   \n",
       "1                                     nlr_d=20_normalize_mtl   \n",
       "4                               nlr_d=20_normalize_noise=0.1   \n",
       "2                              nlr_d=20_normalize_noise=0.25   \n",
       "12                              nlr_d=20_normalize_noise=0.5   \n",
       "14                              nlr_d=20_normalize_noise=1.0   \n",
       "8                           slr_d=20_k=3_normalize_fixedcurr   \n",
       "17  slr_d=20_k=3_normalize_guided_lam_0.01_token_10_layer_-2   \n",
       "10  slr_d=20_k=3_normalize_guided_lam_0.01_token_10_layer_-4   \n",
       "0    slr_d=20_k=3_normalize_guided_lam_0.01_token_5_layer_-2   \n",
       "15   slr_d=20_k=3_normalize_guided_lam_0.01_token_5_layer_-4   \n",
       "16   slr_d=20_k=3_normalize_guided_lam_0.1_token_10_layer_-2   \n",
       "11   slr_d=20_k=3_normalize_guided_lam_0.1_token_10_layer_-4   \n",
       "9              slr_d=20_k=3_normalize_guided_lam_0.1_token_5   \n",
       "7     slr_d=20_k=3_normalize_guided_lam_0.1_token_5_layer_-2   \n",
       "13    slr_d=20_k=3_normalize_guided_lam_0.1_token_5_layer_-4   \n",
       "\n",
       "        model  num_tasks  num_examples  n_dims  \\\n",
       "5   EncoderTF         -1            -1      20   \n",
       "6   EncoderTF         -1            -1      20   \n",
       "3   EncoderTF         -1            -1      20   \n",
       "1   EncoderTF         -1            -1      20   \n",
       "4   EncoderTF         -1            -1      20   \n",
       "2   EncoderTF         -1            -1      20   \n",
       "12  EncoderTF         -1            -1      20   \n",
       "14  EncoderTF         -1            -1      20   \n",
       "8   EncoderTF         -1            -1      20   \n",
       "17  EncoderTF         -1            -1      20   \n",
       "10  EncoderTF         -1            -1      20   \n",
       "0   EncoderTF         -1            -1      20   \n",
       "15  EncoderTF         -1            -1      20   \n",
       "16  EncoderTF         -1            -1      20   \n",
       "11  EncoderTF         -1            -1      20   \n",
       "9   EncoderTF         -1            -1      20   \n",
       "7   EncoderTF         -1            -1      20   \n",
       "13  EncoderTF         -1            -1      20   \n",
       "\n",
       "    n_layer  n_head  \\\n",
       "5        12       8   \n",
       "6        12       8   \n",
       "3        12       8   \n",
       "1        12       8   \n",
       "4        12       8   \n",
       "2        12       8   \n",
       "12       12       8   \n",
       "14       12       8   \n",
       "8        12       8   \n",
       "17       12       8   \n",
       "10       12       8   \n",
       "0        12       8   \n",
       "15       12       8   \n",
       "16       12       8   \n",
       "11       12       8   \n",
       "9        12       8   \n",
       "7        12       8   \n",
       "13       12       8   \n",
       "\n",
       "                                                    run_name  \n",
       "5                                   linear_and_logistic_d=20  \n",
       "6                                      linear_classification  \n",
       "3                                          linear_regression  \n",
       "1                                     nlr_d=20_normalize_mtl  \n",
       "4                               nlr_d=20_normalize_noise=0.1  \n",
       "2                              nlr_d=20_normalize_noise=0.25  \n",
       "12                              nlr_d=20_normalize_noise=0.5  \n",
       "14                              nlr_d=20_normalize_noise=1.0  \n",
       "8                           slr_d=20_k=3_normalize_fixedcurr  \n",
       "17  slr_d=20_k=3_normalize_guided_lam_0.01_token_10_layer_-2  \n",
       "10  slr_d=20_k=3_normalize_guided_lam_0.01_token_10_layer_-4  \n",
       "0    slr_d=20_k=3_normalize_guided_lam_0.01_token_5_layer_-2  \n",
       "15   slr_d=20_k=3_normalize_guided_lam_0.01_token_5_layer_-4  \n",
       "16   slr_d=20_k=3_normalize_guided_lam_0.1_token_10_layer_-2  \n",
       "11   slr_d=20_k=3_normalize_guided_lam_0.1_token_10_layer_-4  \n",
       "9              slr_d=20_k=3_normalize_guided_lam_0.1_token_5  \n",
       "7     slr_d=20_k=3_normalize_guided_lam_0.1_token_5_layer_-2  \n",
       "13    slr_d=20_k=3_normalize_guided_lam_0.1_token_5_layer_-4  "
      ]
     },
     "execution_count": 60,
     "metadata": {},
     "output_type": "execute_result"
    }
   ],
   "source": [
    "df = read_run_dir(run_dir)\n",
    "df  # list all the runs in our run_dir"
   ]
  },
  {
   "cell_type": "code",
   "execution_count": 38,
   "id": "85e3e348",
   "metadata": {},
   "outputs": [],
   "source": [
    "%%capture\n",
    "metrics = collect_all_results(run_dir, df)"
   ]
  },
  {
   "cell_type": "code",
   "execution_count": 26,
   "id": "463807ee",
   "metadata": {},
   "outputs": [
    {
     "name": "stdout",
     "output_type": "stream",
     "text": [
      "{'linear_regression': {'n_dims': 20, 'n_points': 41, 'batch_size': 64, 'data_name': 'gaussian', 'prompting_strategy': 'standard', 'num_eval_examples': 6400, 'task_name': 'linear_regression', 'task_sampler_kwargs': {'normalize_w': True}}, 'linear_classification': {'n_dims': 20, 'n_points': 41, 'batch_size': 64, 'data_name': 'gaussian', 'prompting_strategy': 'standard', 'num_eval_examples': 6400, 'task_name': 'linear_classification'}}\n"
     ]
    },
    {
     "name": "stderr",
     "output_type": "stream",
     "text": [
      "100%|███████████████████████████████████████████████████████████████████████████████████████████████████████████████████████████████████████████████████████████████████████████████████████████| 2/2 [00:52<00:00, 26.19s/it]\n"
     ]
    }
   ],
   "source": [
    "# Evaluate linear and logistic model\n",
    "\n",
    "run_name = \"linear_and_logistic_d=20\"\n",
    "run_id = \"61d98bbc-7d30-4cce-b23f-dc66fe858c2a\"\n",
    "\n",
    "run_path = os.path.join(run_dir, run_name, run_id)\n",
    "recompute_metrics = True\n",
    "\n",
    "############ Set number of evaluation examples #############\n",
    "num_eval_examples = 6400\n",
    "############################################################\n",
    "\n",
    "if recompute_metrics:\n",
    "    all_task_names = [\"linear_regression\", \"linear_classification\"]\n",
    "    get_run_metrics(\n",
    "        run_path, all_task_names=all_task_names, recompute=True, \n",
    "        num_eval_examples=num_eval_examples,\n",
    "        # step=100000, \n",
    "    )  # these are normally precomputed at the end of training"
   ]
  },
  {
   "cell_type": "markdown",
   "id": "f319a16c",
   "metadata": {},
   "source": [
    "## (Optionally) Re-compute evals of trained models"
   ]
  },
  {
   "cell_type": "code",
   "execution_count": 114,
   "id": "1d40b284",
   "metadata": {},
   "outputs": [
    {
     "name": "stderr",
     "output_type": "stream",
     "text": [
      "100%|████████████████████████████████████████████████████████████████████████████████████████████████████████████████████████████████████████████████████████████████████████| 2/2 [00:34<00:00, 17.00s/it]\n"
     ]
    }
   ],
   "source": [
    "# Evaluate linear model\n",
    "\n",
    "run_name = \"linear_regression\"\n",
    "run_id = \"062875cd-dff6-4dba-bc88-a70b3a1e00a3\"\n",
    "\n",
    "run_path = os.path.join(run_dir, run_name, run_id)\n",
    "recompute_metrics = True\n",
    "\n",
    "############ Set number of evaluation examples #############\n",
    "num_eval_examples = 6400\n",
    "############################################################\n",
    "\n",
    "if recompute_metrics:\n",
    "    all_task_names = [\"linear_regression\", \"linear_classification\"]\n",
    "    get_run_metrics(\n",
    "        run_path, all_task_names=all_task_names, recompute=True, \n",
    "        num_eval_examples=num_eval_examples,\n",
    "        # step=100000, \n",
    "    )  # these are normally precomputed at the end of training"
   ]
  },
  {
   "cell_type": "code",
   "execution_count": 49,
   "id": "133cfa53",
   "metadata": {},
   "outputs": [
    {
     "name": "stdout",
     "output_type": "stream",
     "text": [
      "{'noisy_linear_regression_noise=1.0': {'n_dims': 20, 'n_points': 21, 'batch_size': 64, 'data_name': 'gaussian', 'prompting_strategy': 'standard', 'num_eval_examples': 6400, 'task_name': 'noisy_linear_regression', 'task_sampler_kwargs': {'normalize_w': True, 'noise_std': 1.0}}, 'noisy_linear_regression_noise=0.5': {'n_dims': 20, 'n_points': 21, 'batch_size': 64, 'data_name': 'gaussian', 'prompting_strategy': 'standard', 'num_eval_examples': 6400, 'task_name': 'noisy_linear_regression', 'task_sampler_kwargs': {'normalize_w': True, 'noise_std': 0.5}}, 'noisy_linear_regression_noise=0.25': {'n_dims': 20, 'n_points': 21, 'batch_size': 64, 'data_name': 'gaussian', 'prompting_strategy': 'standard', 'num_eval_examples': 6400, 'task_name': 'noisy_linear_regression', 'task_sampler_kwargs': {'normalize_w': True, 'noise_std': 0.25}}, 'noisy_linear_regression_noise=0.1': {'n_dims': 20, 'n_points': 21, 'batch_size': 64, 'data_name': 'gaussian', 'prompting_strategy': 'standard', 'num_eval_examples': 6400, 'task_name': 'noisy_linear_regression', 'task_sampler_kwargs': {'normalize_w': True, 'noise_std': 0.1}}}\n"
     ]
    },
    {
     "name": "stderr",
     "output_type": "stream",
     "text": [
      "100%|██████████████████████████████████████████████████████████████████████████████████████████████████████████████████████████████████████████████████████████████████████████████████████████| 4/4 [18:21<00:00, 275.38s/it]\n"
     ]
    }
   ],
   "source": [
    "# Evaluate ridge mtl model\n",
    "run_name = \"nlr_d=20_normalize_mtl\"\n",
    "run_id = \"c8244fed-c938-455d-a673-c268f7e31d3e\"\n",
    "\n",
    "run_path = os.path.join(run_dir, run_name, run_id)\n",
    "recompute_metrics = True\n",
    "\n",
    "lams = [0.2, 5]\n",
    "if recompute_metrics:\n",
    "    all_task_names = [\"noisy_linear_regression\"]\n",
    "    get_run_metrics(\n",
    "        run_path, all_task_names=all_task_names, recompute=True, \n",
    "        num_eval_examples=num_eval_examples,\n",
    "    )  # these are normally precomputed at the end of training"
   ]
  },
  {
   "cell_type": "code",
   "execution_count": 84,
   "id": "778c72a7",
   "metadata": {},
   "outputs": [],
   "source": [
    "%%capture\n",
    "# Read newest results\n",
    "metrics = collect_all_results(run_dir, df)"
   ]
  },
  {
   "cell_type": "markdown",
   "id": "804220b1",
   "metadata": {},
   "source": [
    "# Make ridge MTL plot"
   ]
  },
  {
   "cell_type": "code",
   "execution_count": 23,
   "id": "33275e7d",
   "metadata": {},
   "outputs": [
    {
     "name": "stdout",
     "output_type": "stream",
     "text": [
      "0\n",
      "1000\n",
      "2000\n",
      "3000\n",
      "4000\n",
      "5000\n",
      "6000\n",
      "7000\n",
      "8000\n",
      "9000\n",
      "0\n",
      "1000\n",
      "2000\n",
      "3000\n",
      "4000\n",
      "5000\n",
      "6000\n",
      "7000\n",
      "8000\n",
      "9000\n"
     ]
    }
   ],
   "source": [
    "errs_1, errs_2 = get_ridge_errors(d=20, N=20)"
   ]
  },
  {
   "cell_type": "code",
   "execution_count": 197,
   "id": "65046639",
   "metadata": {},
   "outputs": [
    {
     "data": {
      "image/png": "[encoded data removed]",
      "text/plain": [
       "<Figure size 360x270 with 1 Axes>"
      ]
     },
     "metadata": {},
     "output_type": "display_data"
    }
   ],
   "source": [
    "make_ridge_mtl_plot_encoder(metrics, errs_1=errs_1, errs_2=errs_2)"
   ]
  },
  {
   "cell_type": "markdown",
   "id": "e259cace",
   "metadata": {},
   "source": [
    "# Make linear + logistic plot"
   ]
  },
  {
   "cell_type": "code",
   "execution_count": 198,
   "id": "21f9464e",
   "metadata": {},
   "outputs": [
    {
     "data": {
      "image/png": "[encoded data removed]",
      "text/plain": [
       "<Figure size 360x270 with 1 Axes>"
      ]
     },
     "metadata": {},
     "output_type": "display_data"
    }
   ],
   "source": [
    "make_linear_logistic_plot_encoder(metrics)"
   ]
  },
  {
   "cell_type": "markdown",
   "id": "2f0dbfe1",
   "metadata": {},
   "source": [
    "# Make lasso plot"
   ]
  },
  {
   "cell_type": "code",
   "execution_count": 215,
   "id": "cdb0770c",
   "metadata": {},
   "outputs": [
    {
     "data": {
      "image/png": "[encoded data removed]",
      "text/plain": [
       "<Figure size 630x270 with 1 Axes>"
      ]
     },
     "metadata": {},
     "output_type": "display_data"
    }
   ],
   "source": [
    "problems = [\n",
    "    \"linear_regression\",\n",
    "    \"noisy_linear_regression_noise=0.1\",\n",
    "    \"noisy_linear_regression_noise=0.5\",\n",
    "    \"sparse_linear_regression\",\n",
    "    \"linear_classification\",\n",
    "]\n",
    "run_names = [\n",
    "    \"linear_regression\",\n",
    "    \"nlr_d=20_normalize_noise=0.1\",\n",
    "    \"nlr_d=20_normalize_noise=0.5\",\n",
    "    \"slr_d=20_k=3_normalize_guided_lam_0.1_token_5_layer_-2\",\n",
    "    \"linear_classification\",\n",
    "]\n",
    "problem_labels = [\n",
    "    \"linear_regression\",\n",
    "    \"noisy_reg_noise_1\",\n",
    "    \"noisy_reg_noise_2\",\n",
    "    \"sparse_reg\",\n",
    "    \"linear_classification\",\n",
    "]\n",
    "inds = [40, 20, 20, 10, 40]\n",
    "plot_bar(metrics, problems, run_names, problem_labels=problem_labels, \n",
    "         inds=inds, flip_problems=[\"linear_classification\"], error_bar=False,\n",
    "         figsize=(6.3, 2.7), alpha=1.0)"
   ]
  }
 ],
 "metadata": {
  "kernelspec": {
   "display_name": "Python 3 (ipykernel)",
   "language": "python",
   "name": "python3"
  },
  "language_info": {
   "codemirror_mode": {
    "name": "ipython",
    "version": 3
   },
   "file_extension": ".py",
   "mimetype": "text/x-python",
   "name": "python",
   "nbconvert_exporter": "python",
   "pygments_lexer": "ipython3",
   "version": "3.9.12"
  }
 },
 "nbformat": 4,
 "nbformat_minor": 5
}
